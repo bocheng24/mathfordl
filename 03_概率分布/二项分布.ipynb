{
 "cells": [
  {
   "cell_type": "code",
   "execution_count": 6,
   "id": "9325dd33",
   "metadata": {},
   "outputs": [],
   "source": [
    "import numpy as np\n",
    "import math"
   ]
  },
  {
   "cell_type": "markdown",
   "id": "2870afb6",
   "metadata": {},
   "source": [
    "## 二项分布\n",
    "\n",
    "#### 二项分布是指，重复 n 次试验，每次都有一个相同的概率 p 发生某件事，那么计算有 k 次发生事件的概率\n",
    "\n",
    "### 计算k次发生的概率：\n",
    "<h3 style=\"text-align: center;\">$ P(x=K)=C_n^kp^k(1-p)^{n-k} $</h3>\n",
    "\n",
    "#### 其中:\n",
    "\n",
    "<h3 style=\"text-align: center;\">$ 0 <= k <= n $</h3>\n",
    "\n",
    "<h3 style=\"text-align: center;\">$C_n^k=\\frac{n!}{k! \\times (n - k)!}$</h3>"
   ]
  },
  {
   "cell_type": "markdown",
   "id": "9db7ebcd",
   "metadata": {},
   "source": [
    "## 问题一\n",
    "\n",
    "### 抛硬币 3 次，并且 3 次正面朝上的概率是多少？"
   ]
  },
  {
   "cell_type": "markdown",
   "id": "18ef650f",
   "metadata": {},
   "source": [
    "<p style=\"color: #E91E63; font-weight: bold; font-size: 16px\">解法一：使用乘法定律</p>"
   ]
  },
  {
   "cell_type": "code",
   "execution_count": 14,
   "id": "59a0108b",
   "metadata": {},
   "outputs": [
    {
     "name": "stdout",
     "output_type": "stream",
     "text": [
      "3 次正面朝上的概率是:  0.125\n"
     ]
    }
   ],
   "source": [
    "p_head = 0.5\n",
    "\n",
    "n = 3\n",
    "\n",
    "p = p_head ** n\n",
    "\n",
    "print(f'3 次正面朝上的概率是: ', p)"
   ]
  },
  {
   "cell_type": "markdown",
   "id": "b74cadd7",
   "metadata": {},
   "source": [
    "<p style=\"color: #E91E63; font-weight: bold; font-size: 16px\">解法二：使用二项分布</p>\n",
    "\n",
    "<p>抛硬币 3 次，并且 3 次正面朝上, 因此 n = k = 3，正面朝上概率为 0.5，正面没朝上的概率为 0.5，因此代入二项分布公式：</p>\n",
    "\n",
    "<h3 style=\"text-align: center;\">$ P(x=3)=C_3^30.5^3(1-0.5)^{3-3} $</h3>\n",
    "\n",
    "<h3 style=\"text-align: center;\">$ =P(x=3)=1\\times0.5^3(1-0.5)^{0} $</h3>"
   ]
  },
  {
   "cell_type": "code",
   "execution_count": 5,
   "id": "0e11db7d",
   "metadata": {},
   "outputs": [
    {
     "name": "stdout",
     "output_type": "stream",
     "text": [
      "3 次正面朝上的概率是:  0.125\n"
     ]
    }
   ],
   "source": [
    "n = 3\n",
    "k = 3\n",
    "\n",
    "p_head = 0.5\n",
    "\n",
    "p = 1 * p_head ** k * (1 - p_head) ** (n - k)\n",
    "\n",
    "print(f'3 次正面朝上的概率是: ', p)"
   ]
  },
  {
   "cell_type": "markdown",
   "id": "1da258a9",
   "metadata": {},
   "source": [
    "### 定义组合数计算函数"
   ]
  },
  {
   "cell_type": "code",
   "execution_count": 11,
   "id": "e0c24213",
   "metadata": {},
   "outputs": [],
   "source": [
    "def c_(n, k):\n",
    "    \n",
    "    if not (k >= 0 and k <= n) or n < 1:\n",
    "        raise Exception(\"Invalid trial numbers\")\n",
    "        \n",
    "    result = math.factorial(n) / (math.factorial(k) * math.factorial(n - k))\n",
    "    \n",
    "    return int(result)"
   ]
  },
  {
   "cell_type": "code",
   "execution_count": 12,
   "id": "cd343b45",
   "metadata": {},
   "outputs": [
    {
     "data": {
      "text/plain": [
       "1"
      ]
     },
     "execution_count": 12,
     "metadata": {},
     "output_type": "execute_result"
    }
   ],
   "source": [
    "c_(3, 3)"
   ]
  },
  {
   "cell_type": "code",
   "execution_count": 13,
   "id": "6e49bc52",
   "metadata": {},
   "outputs": [
    {
     "data": {
      "text/plain": [
       "10"
      ]
     },
     "execution_count": 13,
     "metadata": {},
     "output_type": "execute_result"
    }
   ],
   "source": [
    "c_(5, 3)"
   ]
  },
  {
   "cell_type": "markdown",
   "id": "5a5575ed",
   "metadata": {},
   "source": [
    "## 问题二\n",
    "\n",
    "### Monty Hall 问题，总共 13 名参与者，如果有 7 人通过以下 2 种策略能赢得比赛的概率"
   ]
  },
  {
   "cell_type": "markdown",
   "id": "7b773862",
   "metadata": {},
   "source": [
    "<p style=\"color: #7C4DFF; font-weight: bold; font-size: 16px\">策略一：不换门</p>\n",
    "\n",
    "<p style=\"color: #E91E63; font-weight: bold; font-size: 16px\">解法：因为不换门，则获奖的概率为 1/3，不获奖的概率为（1 - 1/3），因此：</p>\n",
    "\n",
    "<h3 style=\"text-align: center;\">$ P(x=7)=C_{13}^7(\\frac{1}{3})^7(1-\\frac{1}{3})^{13-7} $</h3>"
   ]
  },
  {
   "cell_type": "code",
   "execution_count": 15,
   "id": "7aeb5de3",
   "metadata": {},
   "outputs": [
    {
     "name": "stdout",
     "output_type": "stream",
     "text": [
      "13 人中 7 人不换门赢的比赛的概率:  0.06888441049900179\n"
     ]
    }
   ],
   "source": [
    "p_win = 1 / 3\n",
    "\n",
    "n = 13\n",
    "k = 7\n",
    "\n",
    "p = c_(13, 7) * p_win ** k * (1 - p_win) ** (n - k)\n",
    "\n",
    "print(f'13 人中 7 人不换门赢的比赛的概率: ', p)"
   ]
  },
  {
   "cell_type": "markdown",
   "id": "0937f6a8",
   "metadata": {},
   "source": [
    "<p style=\"color: #7C4DFF; font-weight: bold; font-size: 16px\">策略二：换门</p>\n",
    "\n",
    "<p style=\"color: #E91E63; font-weight: bold; font-size: 16px\">解法：因为换门，则获奖的概率为 2/3，不获奖的概率为（1 - 2/3），因此：</p>\n",
    "\n",
    "<h3 style=\"text-align: center;\">$ P(x=7)=C_{13}^7(\\frac{2}{3})^7(1-\\frac{2}{3})^{13-7} $</h3>"
   ]
  },
  {
   "cell_type": "code",
   "execution_count": 16,
   "id": "e208b5f9",
   "metadata": {},
   "outputs": [
    {
     "name": "stdout",
     "output_type": "stream",
     "text": [
      "13 人中 7 人换门赢的比赛的概率:  0.13776882099800358\n"
     ]
    }
   ],
   "source": [
    "p_win = 2 / 3\n",
    "\n",
    "n = 13\n",
    "k = 7\n",
    "\n",
    "p = c_(13, 7) * p_win ** k * (1 - p_win) ** (n - k)\n",
    "\n",
    "print(f'13 人中 7 人换门赢的比赛的概率: ', p)"
   ]
  },
  {
   "cell_type": "markdown",
   "id": "38a149a9",
   "metadata": {},
   "source": [
    "### 定义二项分布概率计算函数"
   ]
  },
  {
   "cell_type": "code",
   "execution_count": 17,
   "id": "dfb92dea",
   "metadata": {},
   "outputs": [],
   "source": [
    "def bino_p(n, k, p_happen):\n",
    "    \n",
    "    return c_(n, k) * p_happen ** k * (1 - p_happen) ** (n - k)"
   ]
  },
  {
   "cell_type": "code",
   "execution_count": 18,
   "id": "ae6fb885",
   "metadata": {},
   "outputs": [
    {
     "data": {
      "text/plain": [
       "0.13776882099800358"
      ]
     },
     "execution_count": 18,
     "metadata": {},
     "output_type": "execute_result"
    }
   ],
   "source": [
    "p_win = 2 / 3\n",
    "\n",
    "n = 13\n",
    "k = 7\n",
    "\n",
    "bino_p(n, k, p_win)"
   ]
  },
  {
   "cell_type": "markdown",
   "id": "a7081933",
   "metadata": {},
   "source": [
    "### 二项分布概率公式告诉我们，以特定概率发生的事件，在 n 次实验中发生 k 次的概率是多少\n",
    "\n",
    "#### 如果 n = 5， p_happen = 0.3，那可以计算出 k 在 [0, 5] 中的所有概率，并且这些概率的和 = 1"
   ]
  },
  {
   "cell_type": "code",
   "execution_count": 21,
   "id": "9ead1c6c",
   "metadata": {},
   "outputs": [
    {
     "name": "stdout",
     "output_type": "stream",
     "text": [
      "k 在 [0, 5] 中成功的所有概率为：\n",
      " [0.16806999999999994, 0.3601499999999999, 0.3086999999999999, 0.13229999999999997, 0.028349999999999993, 0.0024299999999999994]\n",
      "所有概率和为： 0.9999999999999999\n"
     ]
    }
   ],
   "source": [
    "n = 5\n",
    "\n",
    "p_happen = 0.3\n",
    "\n",
    "p_k = [bino_p(n, k, p_happen) for k in range(0, n + 1)]\n",
    "\n",
    "print(\"k 在 [0, 5] 中成功的所有概率为：\\n\", p_k)\n",
    "print(\"所有概率和为：\", sum(p_k))"
   ]
  },
  {
   "cell_type": "markdown",
   "id": "389e3c71",
   "metadata": {},
   "source": [
    "### 这些概率值构成了:\n",
    "\n",
    "<h2 style=\"text-align: center\">概率质量函数 - Probability Mass Function</h2>"
   ]
  },
  {
   "cell_type": "code",
   "execution_count": 22,
   "id": "3d7404d6",
   "metadata": {},
   "outputs": [],
   "source": [
    "import matplotlib.pyplot as plt"
   ]
  },
  {
   "cell_type": "code",
   "execution_count": 28,
   "id": "a09b73e9",
   "metadata": {},
   "outputs": [
    {
     "data": {
      "image/png": "[encoded data removed]",
      "text/plain": [
       "<Figure size 1000x500 with 1 Axes>"
      ]
     },
     "metadata": {},
     "output_type": "display_data"
    }
   ],
   "source": [
    "plt.figure(figsize=(10, 5))\n",
    "plt.plot(p_k)\n",
    "plt.xlabel('k')\n",
    "plt.ylabel('The Propability under k')\n",
    "plt.show()"
   ]
  },
  {
   "cell_type": "code",
   "execution_count": 29,
   "id": "efe9b6fa",
   "metadata": {},
   "outputs": [
    {
     "data": {
      "text/plain": [
       "array([175, 363, 296, 129,  35,   2])"
      ]
     },
     "execution_count": 29,
     "metadata": {},
     "output_type": "execute_result"
    }
   ],
   "source": [
    "t = np.random.binomial(n = 5, p = 0.3, size = 1000)\n",
    "s = np.bincount(t)\n",
    "s"
   ]
  },
  {
   "cell_type": "code",
   "execution_count": 30,
   "id": "b172f260",
   "metadata": {},
   "outputs": [
    {
     "data": {
      "text/plain": [
       "array([0.175, 0.363, 0.296, 0.129, 0.035, 0.002])"
      ]
     },
     "execution_count": 30,
     "metadata": {},
     "output_type": "execute_result"
    }
   ],
   "source": [
    "s / s.sum()"
   ]
  },
  {
   "cell_type": "code",
   "execution_count": 31,
   "id": "061dbe1d",
   "metadata": {},
   "outputs": [
    {
     "data": {
      "image/png": "[encoded data removed]",
      "text/plain": [
       "<Figure size 1000x500 with 1 Axes>"
      ]
     },
     "metadata": {},
     "output_type": "display_data"
    }
   ],
   "source": [
    "plt.figure(figsize=(10, 5))\n",
    "plt.plot(s / s.sum())\n",
    "plt.xlabel('k')\n",
    "plt.ylabel('The Propability under k')\n",
    "plt.show()"
   ]
  },
  {
   "cell_type": "code",
   "execution_count": null,
   "id": "6db2039e",
   "metadata": {},
   "outputs": [],
   "source": []
  }
 ],
 "metadata": {
  "kernelspec": {
   "display_name": "Python 3 (ipykernel)",
   "language": "python",
   "name": "python3"
  },
  "language_info": {
   "codemirror_mode": {
    "name": "ipython",
    "version": 3
   },
   "file_extension": ".py",
   "mimetype": "text/x-python",
   "name": "python",
   "nbconvert_exporter": "python",
   "pygments_lexer": "ipython3",
   "version": "3.11.5"
  }
 },
 "nbformat": 4,
 "nbformat_minor": 5
}
